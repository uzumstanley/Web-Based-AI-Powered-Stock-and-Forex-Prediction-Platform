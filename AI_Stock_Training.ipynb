{
  "cells": [
    {
      "cell_type": "code",
      "execution_count": 8,
      "metadata": {
        "id": "1ZSjk776yfeA",
        "colab": {
          "base_uri": "https://localhost:8080/"
        },
        "outputId": "9468ad4f-d8c9-4672-aff2-33cd89dc9fe1"
      },
      "outputs": [
        {
          "output_type": "stream",
          "name": "stdout",
          "text": [
            "{'Meta Data': {'1. Information': 'Intraday (5min) open, high, low, close prices and volume', '2. Symbol': 'AAPL', '3. Last Refreshed': '2025-02-21 19:55:00', '4. Interval': '5min', '5. Output Size': 'Compact', '6. Time Zone': 'US/Eastern'}, 'Time Series (5min)': {'2025-02-21 19:55:00': {'1. open': '245.0200', '2. high': '245.1000', '3. low': '245.0000', '4. close': '245.0300', '5. volume': '3692'}, '2025-02-21 19:50:00': {'1. open': '245.1000', '2. high': '245.1100', '3. low': '245.0000', '4. close': '245.0937', '5. volume': '2064'}, '2025-02-21 19:45:00': {'1. open': '245.1500', '2. high': '245.1500', '3. low': '245.0800', '4. close': '245.0800', '5. volume': '1043'}, '2025-02-21 19:40:00': {'1. open': '245.1600', '2. high': '245.1600', '3. low': '245.0937', '4. close': '245.1600', '5. volume': '1662'}, '2025-02-21 19:35:00': {'1. open': '245.1000', '2. high': '245.1975', '3. low': '245.0900', '4. close': '245.1500', '5. volume': '5882'}, '2025-02-21 19:30:00': {'1. open': '245.1200', '2. high': '245.1500', '3. low': '245.0800', '4. close': '245.0800', '5. volume': '2139'}, '2025-02-21 19:25:00': {'1. open': '245.1500', '2. high': '245.1500', '3. low': '245.0800', '4. close': '245.0800', '5. volume': '2718'}, '2025-02-21 19:20:00': {'1. open': '245.2000', '2. high': '245.2500', '3. low': '245.1000', '4. close': '245.1400', '5. volume': '405'}, '2025-02-21 19:15:00': {'1. open': '245.2000', '2. high': '245.2500', '3. low': '245.1500', '4. close': '245.1500', '5. volume': '862'}, '2025-02-21 19:10:00': {'1. open': '245.2000', '2. high': '245.2867', '3. low': '245.1200', '4. close': '245.2000', '5. volume': '1439'}, '2025-02-21 19:05:00': {'1. open': '245.1300', '2. high': '245.2585', '3. low': '245.1200', '4. close': '245.2585', '5. volume': '2493'}, '2025-02-21 19:00:00': {'1. open': '245.1800', '2. high': '245.2470', '3. low': '245.1232', '4. close': '245.1600', '5. volume': '1556'}, '2025-02-21 18:55:00': {'1. open': '245.2000', '2. high': '245.2500', '3. low': '233.1900', '4. close': '245.1800', '5. volume': '853'}, '2025-02-21 18:50:00': {'1. open': '245.3500', '2. high': '245.3500', '3. low': '245.1800', '4. close': '245.2500', '5. volume': '1027'}, '2025-02-21 18:45:00': {'1. open': '245.1800', '2. high': '245.3600', '3. low': '245.1800', '4. close': '245.2000', '5. volume': '1196'}, '2025-02-21 18:40:00': {'1. open': '245.3800', '2. high': '245.5500', '3. low': '245.1800', '4. close': '245.3200', '5. volume': '37666'}, '2025-02-21 18:35:00': {'1. open': '245.4900', '2. high': '245.5000', '3. low': '245.1776', '4. close': '245.1800', '5. volume': '338'}, '2025-02-21 18:30:00': {'1. open': '245.2600', '2. high': '245.5500', '3. low': '245.2429', '4. close': '245.3900', '5. volume': '5735'}, '2025-02-21 18:25:00': {'1. open': '245.1800', '2. high': '245.4925', '3. low': '245.1800', '4. close': '245.2700', '5. volume': '3893'}, '2025-02-21 18:20:00': {'1. open': '245.1900', '2. high': '245.2000', '3. low': '245.1500', '4. close': '245.1500', '5. volume': '518'}, '2025-02-21 18:15:00': {'1. open': '245.2000', '2. high': '245.2500', '3. low': '245.1600', '4. close': '245.1600', '5. volume': '812'}, '2025-02-21 18:10:00': {'1. open': '245.1300', '2. high': '245.2500', '3. low': '245.1200', '4. close': '245.2500', '5. volume': '450'}, '2025-02-21 18:05:00': {'1. open': '245.2300', '2. high': '245.2948', '3. low': '245.0855', '4. close': '245.1200', '5. volume': '794'}, '2025-02-21 18:00:00': {'1. open': '245.2800', '2. high': '245.5000', '3. low': '245.0800', '4. close': '245.1700', '5. volume': '314'}, '2025-02-21 17:55:00': {'1. open': '245.1600', '2. high': '245.3600', '3. low': '245.0800', '4. close': '245.2000', '5. volume': '5377'}, '2025-02-21 17:50:00': {'1. open': '245.1500', '2. high': '245.3500', '3. low': '245.1000', '4. close': '245.2078', '5. volume': '1173'}, '2025-02-21 17:45:00': {'1. open': '245.1561', '2. high': '245.3600', '3. low': '245.0000', '4. close': '245.1100', '5. volume': '9181'}, '2025-02-21 17:40:00': {'1. open': '245.3000', '2. high': '245.5000', '3. low': '245.1400', '4. close': '245.2500', '5. volume': '554'}, '2025-02-21 17:35:00': {'1. open': '245.2424', '2. high': '245.5500', '3. low': '245.1300', '4. close': '245.3000', '5. volume': '18832'}, '2025-02-21 17:30:00': {'1. open': '245.1300', '2. high': '245.5000', '3. low': '245.1202', '4. close': '245.4300', '5. volume': '2052'}, '2025-02-21 17:25:00': {'1. open': '245.1500', '2. high': '245.2600', '3. low': '245.1200', '4. close': '245.1200', '5. volume': '785'}, '2025-02-21 17:20:00': {'1. open': '245.2200', '2. high': '245.2568', '3. low': '245.1200', '4. close': '245.1500', '5. volume': '1094'}, '2025-02-21 17:15:00': {'1. open': '245.1400', '2. high': '245.2500', '3. low': '245.1200', '4. close': '245.1200', '5. volume': '4665'}, '2025-02-21 17:10:00': {'1. open': '245.1500', '2. high': '245.3600', '3. low': '245.1200', '4. close': '245.1205', '5. volume': '3404'}, '2025-02-21 17:05:00': {'1. open': '245.2500', '2. high': '245.3100', '3. low': '245.1000', '4. close': '245.1300', '5. volume': '5704'}, '2025-02-21 17:00:00': {'1. open': '245.3000', '2. high': '245.4000', '3. low': '245.2000', '4. close': '245.2300', '5. volume': '2743'}, '2025-02-21 16:55:00': {'1. open': '245.4000', '2. high': '245.4000', '3. low': '245.3000', '4. close': '245.3000', '5. volume': '5379'}, '2025-02-21 16:50:00': {'1. open': '245.3600', '2. high': '245.4800', '3. low': '245.3500', '4. close': '245.4000', '5. volume': '5674'}, '2025-02-21 16:45:00': {'1. open': '245.4700', '2. high': '245.4800', '3. low': '245.3500', '4. close': '245.4200', '5. volume': '9936'}, '2025-02-21 16:40:00': {'1. open': '245.3000', '2. high': '245.5500', '3. low': '245.3000', '4. close': '245.4500', '5. volume': '20941'}, '2025-02-21 16:35:00': {'1. open': '245.4115', '2. high': '245.4800', '3. low': '245.3000', '4. close': '245.3300', '5. volume': '3187'}, '2025-02-21 16:30:00': {'1. open': '245.5400', '2. high': '245.5400', '3. low': '245.4100', '4. close': '245.4200', '5. volume': '5211'}, '2025-02-21 16:25:00': {'1. open': '245.5167', '2. high': '245.6100', '3. low': '245.5000', '4. close': '245.5400', '5. volume': '40285'}, '2025-02-21 16:20:00': {'1. open': '245.5500', '2. high': '245.6100', '3. low': '245.5000', '4. close': '245.5700', '5. volume': '10654'}, '2025-02-21 16:15:00': {'1. open': '245.5500', '2. high': '245.6220', '3. low': '245.4600', '4. close': '245.5800', '5. volume': '6831'}, '2025-02-21 16:10:00': {'1. open': '245.5200', '2. high': '246.4303', '3. low': '245.4100', '4. close': '245.5400', '5. volume': '19188'}, '2025-02-21 16:05:00': {'1. open': '245.5700', '2. high': '245.6200', '3. low': '245.5000', '4. close': '245.5200', '5. volume': '159713'}, '2025-02-21 16:00:00': {'1. open': '245.5900', '2. high': '247.1367', '3. low': '245.4600', '4. close': '245.6500', '5. volume': '15436057'}, '2025-02-21 15:55:00': {'1. open': '245.8300', '2. high': '245.9300', '3. low': '245.3700', '4. close': '245.5900', '5. volume': '2418693'}, '2025-02-21 15:50:00': {'1. open': '245.8800', '2. high': '246.0900', '3. low': '245.7000', '4. close': '245.8100', '5. volume': '949802'}, '2025-02-21 15:45:00': {'1. open': '245.5300', '2. high': '245.8700', '3. low': '245.3300', '4. close': '245.8700', '5. volume': '603139'}, '2025-02-21 15:40:00': {'1. open': '245.8400', '2. high': '245.9350', '3. low': '245.4500', '4. close': '245.5200', '5. volume': '640652'}, '2025-02-21 15:35:00': {'1. open': '245.8500', '2. high': '245.9215', '3. low': '245.6800', '4. close': '245.8450', '5. volume': '444928'}, '2025-02-21 15:30:00': {'1. open': '245.8100', '2. high': '245.9400', '3. low': '245.6900', '4. close': '245.8400', '5. volume': '541419'}, '2025-02-21 15:25:00': {'1. open': '245.8600', '2. high': '245.8900', '3. low': '245.6200', '4. close': '245.8000', '5. volume': '1624519'}, '2025-02-21 15:20:00': {'1. open': '245.6800', '2. high': '245.9700', '3. low': '245.6300', '4. close': '245.8412', '5. volume': '504114'}, '2025-02-21 15:15:00': {'1. open': '245.7200', '2. high': '245.7900', '3. low': '245.4350', '4. close': '245.6800', '5. volume': '448225'}, '2025-02-21 15:10:00': {'1. open': '245.6500', '2. high': '245.9000', '3. low': '245.3901', '4. close': '245.7350', '5. volume': '479860'}, '2025-02-21 15:05:00': {'1. open': '245.7200', '2. high': '245.7400', '3. low': '245.5600', '4. close': '245.6400', '5. volume': '607031'}, '2025-02-21 15:00:00': {'1. open': '245.9100', '2. high': '246.0090', '3. low': '245.6000', '4. close': '245.7200', '5. volume': '409572'}, '2025-02-21 14:55:00': {'1. open': '246.0800', '2. high': '246.3000', '3. low': '245.8451', '4. close': '245.9200', '5. volume': '509306'}, '2025-02-21 14:50:00': {'1. open': '246.1900', '2. high': '246.6700', '3. low': '245.9820', '4. close': '246.0600', '5. volume': '554500'}, '2025-02-21 14:45:00': {'1. open': '246.2900', '2. high': '246.3100', '3. low': '245.6320', '4. close': '246.1700', '5. volume': '397262'}, '2025-02-21 14:40:00': {'1. open': '246.0300', '2. high': '246.3200', '3. low': '245.9400', '4. close': '246.2900', '5. volume': '531450'}, '2025-02-21 14:35:00': {'1. open': '246.4700', '2. high': '246.4900', '3. low': '245.7801', '4. close': '246.0000', '5. volume': '584771'}, '2025-02-21 14:30:00': {'1. open': '246.5000', '2. high': '246.8300', '3. low': '246.3501', '4. close': '246.4800', '5. volume': '1175019'}, '2025-02-21 14:25:00': {'1. open': '246.8800', '2. high': '246.9700', '3. low': '246.4300', '4. close': '246.5000', '5. volume': '451505'}, '2025-02-21 14:20:00': {'1. open': '247.3600', '2. high': '247.3700', '3. low': '246.8100', '4. close': '246.8600', '5. volume': '431765'}, '2025-02-21 14:15:00': {'1. open': '247.6500', '2. high': '247.7200', '3. low': '247.2600', '4. close': '247.3700', '5. volume': '222609'}, '2025-02-21 14:10:00': {'1. open': '247.6900', '2. high': '247.8500', '3. low': '247.5600', '4. close': '247.6600', '5. volume': '329662'}, '2025-02-21 14:05:00': {'1. open': '247.6200', '2. high': '247.8700', '3. low': '247.4330', '4. close': '247.6700', '5. volume': '296910'}, '2025-02-21 14:00:00': {'1. open': '247.7500', '2. high': '247.8600', '3. low': '247.4500', '4. close': '247.6000', '5. volume': '271261'}, '2025-02-21 13:55:00': {'1. open': '247.8575', '2. high': '248.0100', '3. low': '247.6400', '4. close': '247.7400', '5. volume': '207247'}, '2025-02-21 13:50:00': {'1. open': '247.7750', '2. high': '248.0175', '3. low': '247.6548', '4. close': '247.8541', '5. volume': '226584'}, '2025-02-21 13:45:00': {'1. open': '247.5650', '2. high': '247.9000', '3. low': '247.5200', '4. close': '247.8100', '5. volume': '232146'}, '2025-02-21 13:40:00': {'1. open': '247.7150', '2. high': '247.8200', '3. low': '247.4300', '4. close': '247.5600', '5. volume': '235361'}, '2025-02-21 13:35:00': {'1. open': '247.5300', '2. high': '248.0767', '3. low': '247.4100', '4. close': '247.6800', '5. volume': '457026'}, '2025-02-21 13:30:00': {'1. open': '247.4451', '2. high': '247.5850', '3. low': '247.0400', '4. close': '247.5200', '5. volume': '1624598'}, '2025-02-21 13:25:00': {'1. open': '247.4100', '2. high': '247.6900', '3. low': '247.3100', '4. close': '247.4300', '5. volume': '296344'}, '2025-02-21 13:20:00': {'1. open': '247.3500', '2. high': '247.5200', '3. low': '247.2700', '4. close': '247.4200', '5. volume': '355492'}, '2025-02-21 13:15:00': {'1. open': '247.3450', '2. high': '247.5400', '3. low': '247.1000', '4. close': '247.3400', '5. volume': '1020913'}, '2025-02-21 13:10:00': {'1. open': '247.5980', '2. high': '247.6199', '3. low': '247.2000', '4. close': '247.3450', '5. volume': '581598'}, '2025-02-21 13:05:00': {'1. open': '247.7700', '2. high': '248.1000', '3. low': '247.5200', '4. close': '247.6100', '5. volume': '481742'}, '2025-02-21 13:00:00': {'1. open': '248.4500', '2. high': '248.4900', '3. low': '247.6400', '4. close': '247.7650', '5. volume': '532014'}, '2025-02-21 12:55:00': {'1. open': '248.4253', '2. high': '248.5200', '3. low': '247.9500', '4. close': '248.4300', '5. volume': '579748'}, '2025-02-21 12:50:00': {'1. open': '248.5200', '2. high': '248.6900', '3. low': '248.3500', '4. close': '248.4300', '5. volume': '560009'}, '2025-02-21 12:45:00': {'1. open': '248.3408', '2. high': '248.6700', '3. low': '247.9300', '4. close': '248.5150', '5. volume': '566432'}, '2025-02-21 12:40:00': {'1. open': '247.6200', '2. high': '248.3900', '3. low': '247.5700', '4. close': '248.3450', '5. volume': '1148161'}, '2025-02-21 12:35:00': {'1. open': '247.3400', '2. high': '247.7300', '3. low': '247.2600', '4. close': '247.5900', '5. volume': '525448'}, '2025-02-21 12:30:00': {'1. open': '247.3800', '2. high': '247.4100', '3. low': '247.2000', '4. close': '247.3300', '5. volume': '217423'}, '2025-02-21 12:25:00': {'1. open': '247.2650', '2. high': '247.5200', '3. low': '247.1900', '4. close': '247.3700', '5. volume': '328707'}, '2025-02-21 12:20:00': {'1. open': '247.1550', '2. high': '247.3300', '3. low': '246.9000', '4. close': '247.2650', '5. volume': '255061'}, '2025-02-21 12:15:00': {'1. open': '247.2216', '2. high': '247.4000', '3. low': '247.1300', '4. close': '247.1600', '5. volume': '240081'}, '2025-02-21 12:10:00': {'1. open': '247.2400', '2. high': '247.4200', '3. low': '247.0200', '4. close': '247.2267', '5. volume': '263900'}, '2025-02-21 12:05:00': {'1. open': '247.5200', '2. high': '247.5299', '3. low': '247.1600', '4. close': '247.2200', '5. volume': '237717'}, '2025-02-21 12:00:00': {'1. open': '247.0200', '2. high': '247.6500', '3. low': '246.9801', '4. close': '247.5200', '5. volume': '328617'}, '2025-02-21 11:55:00': {'1. open': '246.7000', '2. high': '247.2199', '3. low': '246.6804', '4. close': '247.0150', '5. volume': '353628'}, '2025-02-21 11:50:00': {'1. open': '247.3650', '2. high': '247.4300', '3. low': '246.6500', '4. close': '246.6800', '5. volume': '1364459'}, '2025-02-21 11:45:00': {'1. open': '247.1250', '2. high': '247.5000', '3. low': '246.9610', '4. close': '247.3800', '5. volume': '358545'}, '2025-02-21 11:40:00': {'1. open': '247.3202', '2. high': '247.3600', '3. low': '246.9100', '4. close': '247.1200', '5. volume': '223451'}}}\n"
          ]
        }
      ],
      "source": [
        "import requests\n",
        "\n",
        "API_KEY = \"lphavantage key\"\n",
        "STOCK_SYMBOL = \"AAPL\"\n",
        "URL = f\"https://www.alphavantage.co/query?function=TIME_SERIES_INTRADAY&symbol={STOCK_SYMBOL}&interval=5min&apikey={API_KEY}\"\n",
        "\n",
        "response = requests.get(URL)\n",
        "data = response.json()\n",
        "\n",
        "print(data)  # Print the stock price data\n"
      ]
    },
    {
      "cell_type": "markdown",
      "source": [
        "**AI Model for Market Sentiment Analysis**\n",
        "\n",
        "**Goal:** Train an NLP model to analyze financial news sentiment."
      ],
      "metadata": {
        "id": "RQT9sHaZXa1e"
      }
    },
    {
      "cell_type": "code",
      "execution_count": 9,
      "metadata": {
        "id": "pSE0xD8MyfMP",
        "colab": {
          "base_uri": "https://localhost:8080/"
        },
        "outputId": "0f61cc40-79ba-475a-c4b6-1b48968b404d"
      },
      "outputs": [
        {
          "output_type": "stream",
          "name": "stdout",
          "text": [
            "Requirement already satisfied: transformers in /usr/local/lib/python3.11/dist-packages (4.48.3)\n",
            "Requirement already satisfied: torch in /usr/local/lib/python3.11/dist-packages (2.5.1+cu124)\n",
            "Requirement already satisfied: requests in /usr/local/lib/python3.11/dist-packages (2.32.3)\n",
            "Requirement already satisfied: beautifulsoup4 in /usr/local/lib/python3.11/dist-packages (4.13.3)\n",
            "Requirement already satisfied: filelock in /usr/local/lib/python3.11/dist-packages (from transformers) (3.17.0)\n",
            "Requirement already satisfied: huggingface-hub<1.0,>=0.24.0 in /usr/local/lib/python3.11/dist-packages (from transformers) (0.28.1)\n",
            "Requirement already satisfied: numpy>=1.17 in /usr/local/lib/python3.11/dist-packages (from transformers) (1.26.4)\n",
            "Requirement already satisfied: packaging>=20.0 in /usr/local/lib/python3.11/dist-packages (from transformers) (24.2)\n",
            "Requirement already satisfied: pyyaml>=5.1 in /usr/local/lib/python3.11/dist-packages (from transformers) (6.0.2)\n",
            "Requirement already satisfied: regex!=2019.12.17 in /usr/local/lib/python3.11/dist-packages (from transformers) (2024.11.6)\n",
            "Requirement already satisfied: tokenizers<0.22,>=0.21 in /usr/local/lib/python3.11/dist-packages (from transformers) (0.21.0)\n",
            "Requirement already satisfied: safetensors>=0.4.1 in /usr/local/lib/python3.11/dist-packages (from transformers) (0.5.2)\n",
            "Requirement already satisfied: tqdm>=4.27 in /usr/local/lib/python3.11/dist-packages (from transformers) (4.67.1)\n",
            "Requirement already satisfied: typing-extensions>=4.8.0 in /usr/local/lib/python3.11/dist-packages (from torch) (4.12.2)\n",
            "Requirement already satisfied: networkx in /usr/local/lib/python3.11/dist-packages (from torch) (3.4.2)\n",
            "Requirement already satisfied: jinja2 in /usr/local/lib/python3.11/dist-packages (from torch) (3.1.5)\n",
            "Requirement already satisfied: fsspec in /usr/local/lib/python3.11/dist-packages (from torch) (2024.10.0)\n",
            "Requirement already satisfied: nvidia-cuda-nvrtc-cu12==12.4.127 in /usr/local/lib/python3.11/dist-packages (from torch) (12.4.127)\n",
            "Requirement already satisfied: nvidia-cuda-runtime-cu12==12.4.127 in /usr/local/lib/python3.11/dist-packages (from torch) (12.4.127)\n",
            "Requirement already satisfied: nvidia-cuda-cupti-cu12==12.4.127 in /usr/local/lib/python3.11/dist-packages (from torch) (12.4.127)\n",
            "Requirement already satisfied: nvidia-cudnn-cu12==9.1.0.70 in /usr/local/lib/python3.11/dist-packages (from torch) (9.1.0.70)\n",
            "Requirement already satisfied: nvidia-cublas-cu12==12.4.5.8 in /usr/local/lib/python3.11/dist-packages (from torch) (12.4.5.8)\n",
            "Requirement already satisfied: nvidia-cufft-cu12==11.2.1.3 in /usr/local/lib/python3.11/dist-packages (from torch) (11.2.1.3)\n",
            "Requirement already satisfied: nvidia-curand-cu12==10.3.5.147 in /usr/local/lib/python3.11/dist-packages (from torch) (10.3.5.147)\n",
            "Requirement already satisfied: nvidia-cusolver-cu12==11.6.1.9 in /usr/local/lib/python3.11/dist-packages (from torch) (11.6.1.9)\n",
            "Requirement already satisfied: nvidia-cusparse-cu12==12.3.1.170 in /usr/local/lib/python3.11/dist-packages (from torch) (12.3.1.170)\n",
            "Requirement already satisfied: nvidia-nccl-cu12==2.21.5 in /usr/local/lib/python3.11/dist-packages (from torch) (2.21.5)\n",
            "Requirement already satisfied: nvidia-nvtx-cu12==12.4.127 in /usr/local/lib/python3.11/dist-packages (from torch) (12.4.127)\n",
            "Requirement already satisfied: nvidia-nvjitlink-cu12==12.4.127 in /usr/local/lib/python3.11/dist-packages (from torch) (12.4.127)\n",
            "Requirement already satisfied: triton==3.1.0 in /usr/local/lib/python3.11/dist-packages (from torch) (3.1.0)\n",
            "Requirement already satisfied: sympy==1.13.1 in /usr/local/lib/python3.11/dist-packages (from torch) (1.13.1)\n",
            "Requirement already satisfied: mpmath<1.4,>=1.1.0 in /usr/local/lib/python3.11/dist-packages (from sympy==1.13.1->torch) (1.3.0)\n",
            "Requirement already satisfied: charset-normalizer<4,>=2 in /usr/local/lib/python3.11/dist-packages (from requests) (3.4.1)\n",
            "Requirement already satisfied: idna<4,>=2.5 in /usr/local/lib/python3.11/dist-packages (from requests) (3.10)\n",
            "Requirement already satisfied: urllib3<3,>=1.21.1 in /usr/local/lib/python3.11/dist-packages (from requests) (2.3.0)\n",
            "Requirement already satisfied: certifi>=2017.4.17 in /usr/local/lib/python3.11/dist-packages (from requests) (2025.1.31)\n",
            "Requirement already satisfied: soupsieve>1.2 in /usr/local/lib/python3.11/dist-packages (from beautifulsoup4) (2.6)\n",
            "Requirement already satisfied: MarkupSafe>=2.0 in /usr/local/lib/python3.11/dist-packages (from jinja2->torch) (3.0.2)\n"
          ]
        }
      ],
      "source": [
        "pip install transformers torch requests beautifulsoup4\n"
      ]
    },
    {
      "cell_type": "markdown",
      "source": [
        "**Use a Pretrained AI Model for Sentiment Analysis**"
      ],
      "metadata": {
        "id": "tRWN-DkWXsRx"
      }
    },
    {
      "cell_type": "code",
      "source": [
        "from transformers import pipeline\n",
        "\n",
        "sentiment_pipeline = pipeline(\"sentiment-analysis\")\n",
        "result = sentiment_pipeline(\"Apple's earnings report shows a 20% increase in revenue.\")\n",
        "\n",
        "print(result)\n"
      ],
      "metadata": {
        "colab": {
          "base_uri": "https://localhost:8080/"
        },
        "id": "7aTReJz6XFpy",
        "outputId": "79d3a1b3-aa4a-49d4-8eec-a94508e5bb40"
      },
      "execution_count": 11,
      "outputs": [
        {
          "output_type": "stream",
          "name": "stderr",
          "text": [
            "No model was supplied, defaulted to distilbert/distilbert-base-uncased-finetuned-sst-2-english and revision 714eb0f (https://huggingface.co/distilbert/distilbert-base-uncased-finetuned-sst-2-english).\n",
            "Using a pipeline without specifying a model name and revision in production is not recommended.\n",
            "Device set to use cuda:0\n"
          ]
        },
        {
          "output_type": "stream",
          "name": "stdout",
          "text": [
            "[{'label': 'POSITIVE', 'score': 0.9979544878005981}]\n"
          ]
        }
      ]
    },
    {
      "cell_type": "code",
      "source": [
        "import requests\n",
        "from transformers import pipeline\n",
        "\n",
        "# Replace with your NewsAPI Key\n",
        "NEWS_API_KEY = \"c4a23f61976b4bc4bcfb21e57aa2d85c\"\n",
        "\n",
        "# Function to fetch financial news\n",
        "def get_financial_news(query=\"stocks\"):\n",
        "    url = f\"https://newsapi.org/v2/everything\"\n",
        "    params = {\n",
        "        \"q\": query,\n",
        "        \"language\": \"en\",\n",
        "        \"sortBy\": \"publishedAt\",\n",
        "        \"apiKey\": NEWS_API_KEY\n",
        "    }\n",
        "\n",
        "    response = requests.get(url, params=params) # Pass params to the request\n",
        "    data = response.json()\n",
        "\n",
        "    if data.get(\"status\") == \"ok\" and \"articles\" in data:  # Check for 'status' and 'articles'\n",
        "        return [(article[\"title\"], article[\"description\"]) for article in data[\"articles\"][:5]]\n",
        "    else:\n",
        "        return f\"Error fetching news: {data}\"\n",
        "\n",
        "# Load AI Model for Sentiment Analysis\n",
        "sentiment_pipeline = pipeline(\"sentiment-analysis\")\n",
        "\n",
        "# Fetch & Analyze Financial News\n",
        "news_articles = get_financial_news(\"stock market\")\n",
        "print(\"\\n🔹 Latest Financial News & Sentiment Analysis 🔹\\n\")\n",
        "\n",
        "if isinstance(news_articles, str) and news_articles.startswith(\"Error fetching news:\"): # Check if news_articles is an error message\n",
        "    print(news_articles) # Print the error message if there was one\n",
        "else: # Only proceed if there was no error\n",
        "    for title, description in news_articles:\n",
        "        sentiment = sentiment_pipeline(title + \". \" + description)[0]\n",
        "        print(f\"📰 {title}\")\n",
        "        print(f\"💬 Sentiment: {sentiment['label']} (Confidence: {round(sentiment['score'], 2)})\\n\")"
      ],
      "metadata": {
        "colab": {
          "base_uri": "https://localhost:8080/"
        },
        "id": "Apps0h6uXFmL",
        "outputId": "cc825935-ac98-44c6-d0ef-aa9abdd131e0"
      },
      "execution_count": 14,
      "outputs": [
        {
          "output_type": "stream",
          "name": "stderr",
          "text": [
            "No model was supplied, defaulted to distilbert/distilbert-base-uncased-finetuned-sst-2-english and revision 714eb0f (https://huggingface.co/distilbert/distilbert-base-uncased-finetuned-sst-2-english).\n",
            "Using a pipeline without specifying a model name and revision in production is not recommended.\n",
            "Device set to use cuda:0\n"
          ]
        },
        {
          "output_type": "stream",
          "name": "stdout",
          "text": [
            "\n",
            "🔹 Latest Financial News & Sentiment Analysis 🔹\n",
            "\n",
            "📰 Every Palantir Investor Should Keep an Eye on This Number - Nasdaq\n",
            "💬 Sentiment: NEGATIVE (Confidence: 1.0)\n",
            "\n",
            "📰 ASX 200 data centre stock sinks 5% to a 52-week low on results day\n",
            "💬 Sentiment: NEGATIVE (Confidence: 1.0)\n",
            "\n",
            "📰 NIB share price rallies 11% as FY25 'shows strong core business'\n",
            "💬 Sentiment: NEGATIVE (Confidence: 0.99)\n",
            "\n",
            "📰 With a 59% stake, Bhagwan Marine Limited (ASX:BWN) insiders have a lot riding on the company\n",
            "💬 Sentiment: POSITIVE (Confidence: 1.0)\n",
            "\n",
            "📰 WiseTech Board Quits as Founder White Wins Power Struggle\n",
            "💬 Sentiment: NEGATIVE (Confidence: 0.9)\n",
            "\n"
          ]
        }
      ]
    },
    {
      "cell_type": "markdown",
      "source": [
        "**Predicting Stock Price Trends Using AI**\n",
        "\n",
        "**Goal:** Train an AI model to predict stock prices using historical data."
      ],
      "metadata": {
        "id": "TyAvbLLFZtMu"
      }
    },
    {
      "cell_type": "code",
      "source": [
        "pip install numpy pandas matplotlib scikit-learn tensorflow yfinance\n"
      ],
      "metadata": {
        "colab": {
          "base_uri": "https://localhost:8080/"
        },
        "id": "rfV5YVOvXFhH",
        "outputId": "e1047c3a-0129-4786-c3f0-57e2935a6d3f"
      },
      "execution_count": 15,
      "outputs": [
        {
          "output_type": "stream",
          "name": "stdout",
          "text": [
            "Requirement already satisfied: numpy in /usr/local/lib/python3.11/dist-packages (1.26.4)\n",
            "Requirement already satisfied: pandas in /usr/local/lib/python3.11/dist-packages (2.2.2)\n",
            "Requirement already satisfied: matplotlib in /usr/local/lib/python3.11/dist-packages (3.10.0)\n",
            "Requirement already satisfied: scikit-learn in /usr/local/lib/python3.11/dist-packages (1.6.1)\n",
            "Requirement already satisfied: tensorflow in /usr/local/lib/python3.11/dist-packages (2.18.0)\n",
            "Requirement already satisfied: yfinance in /usr/local/lib/python3.11/dist-packages (0.2.54)\n",
            "Requirement already satisfied: python-dateutil>=2.8.2 in /usr/local/lib/python3.11/dist-packages (from pandas) (2.8.2)\n",
            "Requirement already satisfied: pytz>=2020.1 in /usr/local/lib/python3.11/dist-packages (from pandas) (2025.1)\n",
            "Requirement already satisfied: tzdata>=2022.7 in /usr/local/lib/python3.11/dist-packages (from pandas) (2025.1)\n",
            "Requirement already satisfied: contourpy>=1.0.1 in /usr/local/lib/python3.11/dist-packages (from matplotlib) (1.3.1)\n",
            "Requirement already satisfied: cycler>=0.10 in /usr/local/lib/python3.11/dist-packages (from matplotlib) (0.12.1)\n",
            "Requirement already satisfied: fonttools>=4.22.0 in /usr/local/lib/python3.11/dist-packages (from matplotlib) (4.56.0)\n",
            "Requirement already satisfied: kiwisolver>=1.3.1 in /usr/local/lib/python3.11/dist-packages (from matplotlib) (1.4.8)\n",
            "Requirement already satisfied: packaging>=20.0 in /usr/local/lib/python3.11/dist-packages (from matplotlib) (24.2)\n",
            "Requirement already satisfied: pillow>=8 in /usr/local/lib/python3.11/dist-packages (from matplotlib) (11.1.0)\n",
            "Requirement already satisfied: pyparsing>=2.3.1 in /usr/local/lib/python3.11/dist-packages (from matplotlib) (3.2.1)\n",
            "Requirement already satisfied: scipy>=1.6.0 in /usr/local/lib/python3.11/dist-packages (from scikit-learn) (1.13.1)\n",
            "Requirement already satisfied: joblib>=1.2.0 in /usr/local/lib/python3.11/dist-packages (from scikit-learn) (1.4.2)\n",
            "Requirement already satisfied: threadpoolctl>=3.1.0 in /usr/local/lib/python3.11/dist-packages (from scikit-learn) (3.5.0)\n",
            "Requirement already satisfied: absl-py>=1.0.0 in /usr/local/lib/python3.11/dist-packages (from tensorflow) (1.4.0)\n",
            "Requirement already satisfied: astunparse>=1.6.0 in /usr/local/lib/python3.11/dist-packages (from tensorflow) (1.6.3)\n",
            "Requirement already satisfied: flatbuffers>=24.3.25 in /usr/local/lib/python3.11/dist-packages (from tensorflow) (25.2.10)\n",
            "Requirement already satisfied: gast!=0.5.0,!=0.5.1,!=0.5.2,>=0.2.1 in /usr/local/lib/python3.11/dist-packages (from tensorflow) (0.6.0)\n",
            "Requirement already satisfied: google-pasta>=0.1.1 in /usr/local/lib/python3.11/dist-packages (from tensorflow) (0.2.0)\n",
            "Requirement already satisfied: libclang>=13.0.0 in /usr/local/lib/python3.11/dist-packages (from tensorflow) (18.1.1)\n",
            "Requirement already satisfied: opt-einsum>=2.3.2 in /usr/local/lib/python3.11/dist-packages (from tensorflow) (3.4.0)\n",
            "Requirement already satisfied: protobuf!=4.21.0,!=4.21.1,!=4.21.2,!=4.21.3,!=4.21.4,!=4.21.5,<6.0.0dev,>=3.20.3 in /usr/local/lib/python3.11/dist-packages (from tensorflow) (4.25.6)\n",
            "Requirement already satisfied: requests<3,>=2.21.0 in /usr/local/lib/python3.11/dist-packages (from tensorflow) (2.32.3)\n",
            "Requirement already satisfied: setuptools in /usr/local/lib/python3.11/dist-packages (from tensorflow) (75.1.0)\n",
            "Requirement already satisfied: six>=1.12.0 in /usr/local/lib/python3.11/dist-packages (from tensorflow) (1.17.0)\n",
            "Requirement already satisfied: termcolor>=1.1.0 in /usr/local/lib/python3.11/dist-packages (from tensorflow) (2.5.0)\n",
            "Requirement already satisfied: typing-extensions>=3.6.6 in /usr/local/lib/python3.11/dist-packages (from tensorflow) (4.12.2)\n",
            "Requirement already satisfied: wrapt>=1.11.0 in /usr/local/lib/python3.11/dist-packages (from tensorflow) (1.17.2)\n",
            "Requirement already satisfied: grpcio<2.0,>=1.24.3 in /usr/local/lib/python3.11/dist-packages (from tensorflow) (1.70.0)\n",
            "Requirement already satisfied: tensorboard<2.19,>=2.18 in /usr/local/lib/python3.11/dist-packages (from tensorflow) (2.18.0)\n",
            "Requirement already satisfied: keras>=3.5.0 in /usr/local/lib/python3.11/dist-packages (from tensorflow) (3.8.0)\n",
            "Requirement already satisfied: h5py>=3.11.0 in /usr/local/lib/python3.11/dist-packages (from tensorflow) (3.12.1)\n",
            "Requirement already satisfied: ml-dtypes<0.5.0,>=0.4.0 in /usr/local/lib/python3.11/dist-packages (from tensorflow) (0.4.1)\n",
            "Requirement already satisfied: tensorflow-io-gcs-filesystem>=0.23.1 in /usr/local/lib/python3.11/dist-packages (from tensorflow) (0.37.1)\n",
            "Requirement already satisfied: multitasking>=0.0.7 in /usr/local/lib/python3.11/dist-packages (from yfinance) (0.0.11)\n",
            "Requirement already satisfied: platformdirs>=2.0.0 in /usr/local/lib/python3.11/dist-packages (from yfinance) (4.3.6)\n",
            "Requirement already satisfied: frozendict>=2.3.4 in /usr/local/lib/python3.11/dist-packages (from yfinance) (2.4.6)\n",
            "Requirement already satisfied: peewee>=3.16.2 in /usr/local/lib/python3.11/dist-packages (from yfinance) (3.17.9)\n",
            "Requirement already satisfied: beautifulsoup4>=4.11.1 in /usr/local/lib/python3.11/dist-packages (from yfinance) (4.13.3)\n",
            "Requirement already satisfied: wheel<1.0,>=0.23.0 in /usr/local/lib/python3.11/dist-packages (from astunparse>=1.6.0->tensorflow) (0.45.1)\n",
            "Requirement already satisfied: soupsieve>1.2 in /usr/local/lib/python3.11/dist-packages (from beautifulsoup4>=4.11.1->yfinance) (2.6)\n",
            "Requirement already satisfied: rich in /usr/local/lib/python3.11/dist-packages (from keras>=3.5.0->tensorflow) (13.9.4)\n",
            "Requirement already satisfied: namex in /usr/local/lib/python3.11/dist-packages (from keras>=3.5.0->tensorflow) (0.0.8)\n",
            "Requirement already satisfied: optree in /usr/local/lib/python3.11/dist-packages (from keras>=3.5.0->tensorflow) (0.14.0)\n",
            "Requirement already satisfied: charset-normalizer<4,>=2 in /usr/local/lib/python3.11/dist-packages (from requests<3,>=2.21.0->tensorflow) (3.4.1)\n",
            "Requirement already satisfied: idna<4,>=2.5 in /usr/local/lib/python3.11/dist-packages (from requests<3,>=2.21.0->tensorflow) (3.10)\n",
            "Requirement already satisfied: urllib3<3,>=1.21.1 in /usr/local/lib/python3.11/dist-packages (from requests<3,>=2.21.0->tensorflow) (2.3.0)\n",
            "Requirement already satisfied: certifi>=2017.4.17 in /usr/local/lib/python3.11/dist-packages (from requests<3,>=2.21.0->tensorflow) (2025.1.31)\n",
            "Requirement already satisfied: markdown>=2.6.8 in /usr/local/lib/python3.11/dist-packages (from tensorboard<2.19,>=2.18->tensorflow) (3.7)\n",
            "Requirement already satisfied: tensorboard-data-server<0.8.0,>=0.7.0 in /usr/local/lib/python3.11/dist-packages (from tensorboard<2.19,>=2.18->tensorflow) (0.7.2)\n",
            "Requirement already satisfied: werkzeug>=1.0.1 in /usr/local/lib/python3.11/dist-packages (from tensorboard<2.19,>=2.18->tensorflow) (3.1.3)\n",
            "Requirement already satisfied: MarkupSafe>=2.1.1 in /usr/local/lib/python3.11/dist-packages (from werkzeug>=1.0.1->tensorboard<2.19,>=2.18->tensorflow) (3.0.2)\n",
            "Requirement already satisfied: markdown-it-py>=2.2.0 in /usr/local/lib/python3.11/dist-packages (from rich->keras>=3.5.0->tensorflow) (3.0.0)\n",
            "Requirement already satisfied: pygments<3.0.0,>=2.13.0 in /usr/local/lib/python3.11/dist-packages (from rich->keras>=3.5.0->tensorflow) (2.18.0)\n",
            "Requirement already satisfied: mdurl~=0.1 in /usr/local/lib/python3.11/dist-packages (from markdown-it-py>=2.2.0->rich->keras>=3.5.0->tensorflow) (0.1.2)\n"
          ]
        }
      ]
    },
    {
      "cell_type": "markdown",
      "source": [
        "**Train an LSTM Model for Stock Price Prediction**"
      ],
      "metadata": {
        "id": "47WNHo8kaKBh"
      }
    },
    {
      "cell_type": "code",
      "source": [
        "import numpy as np\n",
        "import pandas as pd\n",
        "import matplotlib.pyplot as plt\n",
        "import yfinance as yf\n",
        "from sklearn.preprocessing import MinMaxScaler\n",
        "from tensorflow.keras.models import Sequential\n",
        "from tensorflow.keras.layers import LSTM, Dense, Dropout\n",
        "\n",
        "# Fetch stock data (e.g., Apple 'AAPL') from Yahoo Finance\n",
        "def get_stock_data(symbol, start=\"2020-01-01\", end=\"2024-01-01\"):\n",
        "    stock = yf.download(symbol, start=start, end=end)\n",
        "    return stock[\"Close\"]\n",
        "\n",
        "print(data)"
      ],
      "metadata": {
        "colab": {
          "base_uri": "https://localhost:8080/"
        },
        "id": "bqXX1s59XFbm",
        "outputId": "fa37a06e-ff38-41a8-975e-ec1bfb8f0cc0"
      },
      "execution_count": 16,
      "outputs": [
        {
          "output_type": "stream",
          "name": "stdout",
          "text": [
            "{'Meta Data': {'1. Information': 'Intraday (5min) open, high, low, close prices and volume', '2. Symbol': 'AAPL', '3. Last Refreshed': '2025-02-21 19:55:00', '4. Interval': '5min', '5. Output Size': 'Compact', '6. Time Zone': 'US/Eastern'}, 'Time Series (5min)': {'2025-02-21 19:55:00': {'1. open': '245.0200', '2. high': '245.1000', '3. low': '245.0000', '4. close': '245.0300', '5. volume': '3692'}, '2025-02-21 19:50:00': {'1. open': '245.1000', '2. high': '245.1100', '3. low': '245.0000', '4. close': '245.0937', '5. volume': '2064'}, '2025-02-21 19:45:00': {'1. open': '245.1500', '2. high': '245.1500', '3. low': '245.0800', '4. close': '245.0800', '5. volume': '1043'}, '2025-02-21 19:40:00': {'1. open': '245.1600', '2. high': '245.1600', '3. low': '245.0937', '4. close': '245.1600', '5. volume': '1662'}, '2025-02-21 19:35:00': {'1. open': '245.1000', '2. high': '245.1975', '3. low': '245.0900', '4. close': '245.1500', '5. volume': '5882'}, '2025-02-21 19:30:00': {'1. open': '245.1200', '2. high': '245.1500', '3. low': '245.0800', '4. close': '245.0800', '5. volume': '2139'}, '2025-02-21 19:25:00': {'1. open': '245.1500', '2. high': '245.1500', '3. low': '245.0800', '4. close': '245.0800', '5. volume': '2718'}, '2025-02-21 19:20:00': {'1. open': '245.2000', '2. high': '245.2500', '3. low': '245.1000', '4. close': '245.1400', '5. volume': '405'}, '2025-02-21 19:15:00': {'1. open': '245.2000', '2. high': '245.2500', '3. low': '245.1500', '4. close': '245.1500', '5. volume': '862'}, '2025-02-21 19:10:00': {'1. open': '245.2000', '2. high': '245.2867', '3. low': '245.1200', '4. close': '245.2000', '5. volume': '1439'}, '2025-02-21 19:05:00': {'1. open': '245.1300', '2. high': '245.2585', '3. low': '245.1200', '4. close': '245.2585', '5. volume': '2493'}, '2025-02-21 19:00:00': {'1. open': '245.1800', '2. high': '245.2470', '3. low': '245.1232', '4. close': '245.1600', '5. volume': '1556'}, '2025-02-21 18:55:00': {'1. open': '245.2000', '2. high': '245.2500', '3. low': '233.1900', '4. close': '245.1800', '5. volume': '853'}, '2025-02-21 18:50:00': {'1. open': '245.3500', '2. high': '245.3500', '3. low': '245.1800', '4. close': '245.2500', '5. volume': '1027'}, '2025-02-21 18:45:00': {'1. open': '245.1800', '2. high': '245.3600', '3. low': '245.1800', '4. close': '245.2000', '5. volume': '1196'}, '2025-02-21 18:40:00': {'1. open': '245.3800', '2. high': '245.5500', '3. low': '245.1800', '4. close': '245.3200', '5. volume': '37666'}, '2025-02-21 18:35:00': {'1. open': '245.4900', '2. high': '245.5000', '3. low': '245.1776', '4. close': '245.1800', '5. volume': '338'}, '2025-02-21 18:30:00': {'1. open': '245.2600', '2. high': '245.5500', '3. low': '245.2429', '4. close': '245.3900', '5. volume': '5735'}, '2025-02-21 18:25:00': {'1. open': '245.1800', '2. high': '245.4925', '3. low': '245.1800', '4. close': '245.2700', '5. volume': '3893'}, '2025-02-21 18:20:00': {'1. open': '245.1900', '2. high': '245.2000', '3. low': '245.1500', '4. close': '245.1500', '5. volume': '518'}, '2025-02-21 18:15:00': {'1. open': '245.2000', '2. high': '245.2500', '3. low': '245.1600', '4. close': '245.1600', '5. volume': '812'}, '2025-02-21 18:10:00': {'1. open': '245.1300', '2. high': '245.2500', '3. low': '245.1200', '4. close': '245.2500', '5. volume': '450'}, '2025-02-21 18:05:00': {'1. open': '245.2300', '2. high': '245.2948', '3. low': '245.0855', '4. close': '245.1200', '5. volume': '794'}, '2025-02-21 18:00:00': {'1. open': '245.2800', '2. high': '245.5000', '3. low': '245.0800', '4. close': '245.1700', '5. volume': '314'}, '2025-02-21 17:55:00': {'1. open': '245.1600', '2. high': '245.3600', '3. low': '245.0800', '4. close': '245.2000', '5. volume': '5377'}, '2025-02-21 17:50:00': {'1. open': '245.1500', '2. high': '245.3500', '3. low': '245.1000', '4. close': '245.2078', '5. volume': '1173'}, '2025-02-21 17:45:00': {'1. open': '245.1561', '2. high': '245.3600', '3. low': '245.0000', '4. close': '245.1100', '5. volume': '9181'}, '2025-02-21 17:40:00': {'1. open': '245.3000', '2. high': '245.5000', '3. low': '245.1400', '4. close': '245.2500', '5. volume': '554'}, '2025-02-21 17:35:00': {'1. open': '245.2424', '2. high': '245.5500', '3. low': '245.1300', '4. close': '245.3000', '5. volume': '18832'}, '2025-02-21 17:30:00': {'1. open': '245.1300', '2. high': '245.5000', '3. low': '245.1202', '4. close': '245.4300', '5. volume': '2052'}, '2025-02-21 17:25:00': {'1. open': '245.1500', '2. high': '245.2600', '3. low': '245.1200', '4. close': '245.1200', '5. volume': '785'}, '2025-02-21 17:20:00': {'1. open': '245.2200', '2. high': '245.2568', '3. low': '245.1200', '4. close': '245.1500', '5. volume': '1094'}, '2025-02-21 17:15:00': {'1. open': '245.1400', '2. high': '245.2500', '3. low': '245.1200', '4. close': '245.1200', '5. volume': '4665'}, '2025-02-21 17:10:00': {'1. open': '245.1500', '2. high': '245.3600', '3. low': '245.1200', '4. close': '245.1205', '5. volume': '3404'}, '2025-02-21 17:05:00': {'1. open': '245.2500', '2. high': '245.3100', '3. low': '245.1000', '4. close': '245.1300', '5. volume': '5704'}, '2025-02-21 17:00:00': {'1. open': '245.3000', '2. high': '245.4000', '3. low': '245.2000', '4. close': '245.2300', '5. volume': '2743'}, '2025-02-21 16:55:00': {'1. open': '245.4000', '2. high': '245.4000', '3. low': '245.3000', '4. close': '245.3000', '5. volume': '5379'}, '2025-02-21 16:50:00': {'1. open': '245.3600', '2. high': '245.4800', '3. low': '245.3500', '4. close': '245.4000', '5. volume': '5674'}, '2025-02-21 16:45:00': {'1. open': '245.4700', '2. high': '245.4800', '3. low': '245.3500', '4. close': '245.4200', '5. volume': '9936'}, '2025-02-21 16:40:00': {'1. open': '245.3000', '2. high': '245.5500', '3. low': '245.3000', '4. close': '245.4500', '5. volume': '20941'}, '2025-02-21 16:35:00': {'1. open': '245.4115', '2. high': '245.4800', '3. low': '245.3000', '4. close': '245.3300', '5. volume': '3187'}, '2025-02-21 16:30:00': {'1. open': '245.5400', '2. high': '245.5400', '3. low': '245.4100', '4. close': '245.4200', '5. volume': '5211'}, '2025-02-21 16:25:00': {'1. open': '245.5167', '2. high': '245.6100', '3. low': '245.5000', '4. close': '245.5400', '5. volume': '40285'}, '2025-02-21 16:20:00': {'1. open': '245.5500', '2. high': '245.6100', '3. low': '245.5000', '4. close': '245.5700', '5. volume': '10654'}, '2025-02-21 16:15:00': {'1. open': '245.5500', '2. high': '245.6220', '3. low': '245.4600', '4. close': '245.5800', '5. volume': '6831'}, '2025-02-21 16:10:00': {'1. open': '245.5200', '2. high': '246.4303', '3. low': '245.4100', '4. close': '245.5400', '5. volume': '19188'}, '2025-02-21 16:05:00': {'1. open': '245.5700', '2. high': '245.6200', '3. low': '245.5000', '4. close': '245.5200', '5. volume': '159713'}, '2025-02-21 16:00:00': {'1. open': '245.5900', '2. high': '247.1367', '3. low': '245.4600', '4. close': '245.6500', '5. volume': '15436057'}, '2025-02-21 15:55:00': {'1. open': '245.8300', '2. high': '245.9300', '3. low': '245.3700', '4. close': '245.5900', '5. volume': '2418693'}, '2025-02-21 15:50:00': {'1. open': '245.8800', '2. high': '246.0900', '3. low': '245.7000', '4. close': '245.8100', '5. volume': '949802'}, '2025-02-21 15:45:00': {'1. open': '245.5300', '2. high': '245.8700', '3. low': '245.3300', '4. close': '245.8700', '5. volume': '603139'}, '2025-02-21 15:40:00': {'1. open': '245.8400', '2. high': '245.9350', '3. low': '245.4500', '4. close': '245.5200', '5. volume': '640652'}, '2025-02-21 15:35:00': {'1. open': '245.8500', '2. high': '245.9215', '3. low': '245.6800', '4. close': '245.8450', '5. volume': '444928'}, '2025-02-21 15:30:00': {'1. open': '245.8100', '2. high': '245.9400', '3. low': '245.6900', '4. close': '245.8400', '5. volume': '541419'}, '2025-02-21 15:25:00': {'1. open': '245.8600', '2. high': '245.8900', '3. low': '245.6200', '4. close': '245.8000', '5. volume': '1624519'}, '2025-02-21 15:20:00': {'1. open': '245.6800', '2. high': '245.9700', '3. low': '245.6300', '4. close': '245.8412', '5. volume': '504114'}, '2025-02-21 15:15:00': {'1. open': '245.7200', '2. high': '245.7900', '3. low': '245.4350', '4. close': '245.6800', '5. volume': '448225'}, '2025-02-21 15:10:00': {'1. open': '245.6500', '2. high': '245.9000', '3. low': '245.3901', '4. close': '245.7350', '5. volume': '479860'}, '2025-02-21 15:05:00': {'1. open': '245.7200', '2. high': '245.7400', '3. low': '245.5600', '4. close': '245.6400', '5. volume': '607031'}, '2025-02-21 15:00:00': {'1. open': '245.9100', '2. high': '246.0090', '3. low': '245.6000', '4. close': '245.7200', '5. volume': '409572'}, '2025-02-21 14:55:00': {'1. open': '246.0800', '2. high': '246.3000', '3. low': '245.8451', '4. close': '245.9200', '5. volume': '509306'}, '2025-02-21 14:50:00': {'1. open': '246.1900', '2. high': '246.6700', '3. low': '245.9820', '4. close': '246.0600', '5. volume': '554500'}, '2025-02-21 14:45:00': {'1. open': '246.2900', '2. high': '246.3100', '3. low': '245.6320', '4. close': '246.1700', '5. volume': '397262'}, '2025-02-21 14:40:00': {'1. open': '246.0300', '2. high': '246.3200', '3. low': '245.9400', '4. close': '246.2900', '5. volume': '531450'}, '2025-02-21 14:35:00': {'1. open': '246.4700', '2. high': '246.4900', '3. low': '245.7801', '4. close': '246.0000', '5. volume': '584771'}, '2025-02-21 14:30:00': {'1. open': '246.5000', '2. high': '246.8300', '3. low': '246.3501', '4. close': '246.4800', '5. volume': '1175019'}, '2025-02-21 14:25:00': {'1. open': '246.8800', '2. high': '246.9700', '3. low': '246.4300', '4. close': '246.5000', '5. volume': '451505'}, '2025-02-21 14:20:00': {'1. open': '247.3600', '2. high': '247.3700', '3. low': '246.8100', '4. close': '246.8600', '5. volume': '431765'}, '2025-02-21 14:15:00': {'1. open': '247.6500', '2. high': '247.7200', '3. low': '247.2600', '4. close': '247.3700', '5. volume': '222609'}, '2025-02-21 14:10:00': {'1. open': '247.6900', '2. high': '247.8500', '3. low': '247.5600', '4. close': '247.6600', '5. volume': '329662'}, '2025-02-21 14:05:00': {'1. open': '247.6200', '2. high': '247.8700', '3. low': '247.4330', '4. close': '247.6700', '5. volume': '296910'}, '2025-02-21 14:00:00': {'1. open': '247.7500', '2. high': '247.8600', '3. low': '247.4500', '4. close': '247.6000', '5. volume': '271261'}, '2025-02-21 13:55:00': {'1. open': '247.8575', '2. high': '248.0100', '3. low': '247.6400', '4. close': '247.7400', '5. volume': '207247'}, '2025-02-21 13:50:00': {'1. open': '247.7750', '2. high': '248.0175', '3. low': '247.6548', '4. close': '247.8541', '5. volume': '226584'}, '2025-02-21 13:45:00': {'1. open': '247.5650', '2. high': '247.9000', '3. low': '247.5200', '4. close': '247.8100', '5. volume': '232146'}, '2025-02-21 13:40:00': {'1. open': '247.7150', '2. high': '247.8200', '3. low': '247.4300', '4. close': '247.5600', '5. volume': '235361'}, '2025-02-21 13:35:00': {'1. open': '247.5300', '2. high': '248.0767', '3. low': '247.4100', '4. close': '247.6800', '5. volume': '457026'}, '2025-02-21 13:30:00': {'1. open': '247.4451', '2. high': '247.5850', '3. low': '247.0400', '4. close': '247.5200', '5. volume': '1624598'}, '2025-02-21 13:25:00': {'1. open': '247.4100', '2. high': '247.6900', '3. low': '247.3100', '4. close': '247.4300', '5. volume': '296344'}, '2025-02-21 13:20:00': {'1. open': '247.3500', '2. high': '247.5200', '3. low': '247.2700', '4. close': '247.4200', '5. volume': '355492'}, '2025-02-21 13:15:00': {'1. open': '247.3450', '2. high': '247.5400', '3. low': '247.1000', '4. close': '247.3400', '5. volume': '1020913'}, '2025-02-21 13:10:00': {'1. open': '247.5980', '2. high': '247.6199', '3. low': '247.2000', '4. close': '247.3450', '5. volume': '581598'}, '2025-02-21 13:05:00': {'1. open': '247.7700', '2. high': '248.1000', '3. low': '247.5200', '4. close': '247.6100', '5. volume': '481742'}, '2025-02-21 13:00:00': {'1. open': '248.4500', '2. high': '248.4900', '3. low': '247.6400', '4. close': '247.7650', '5. volume': '532014'}, '2025-02-21 12:55:00': {'1. open': '248.4253', '2. high': '248.5200', '3. low': '247.9500', '4. close': '248.4300', '5. volume': '579748'}, '2025-02-21 12:50:00': {'1. open': '248.5200', '2. high': '248.6900', '3. low': '248.3500', '4. close': '248.4300', '5. volume': '560009'}, '2025-02-21 12:45:00': {'1. open': '248.3408', '2. high': '248.6700', '3. low': '247.9300', '4. close': '248.5150', '5. volume': '566432'}, '2025-02-21 12:40:00': {'1. open': '247.6200', '2. high': '248.3900', '3. low': '247.5700', '4. close': '248.3450', '5. volume': '1148161'}, '2025-02-21 12:35:00': {'1. open': '247.3400', '2. high': '247.7300', '3. low': '247.2600', '4. close': '247.5900', '5. volume': '525448'}, '2025-02-21 12:30:00': {'1. open': '247.3800', '2. high': '247.4100', '3. low': '247.2000', '4. close': '247.3300', '5. volume': '217423'}, '2025-02-21 12:25:00': {'1. open': '247.2650', '2. high': '247.5200', '3. low': '247.1900', '4. close': '247.3700', '5. volume': '328707'}, '2025-02-21 12:20:00': {'1. open': '247.1550', '2. high': '247.3300', '3. low': '246.9000', '4. close': '247.2650', '5. volume': '255061'}, '2025-02-21 12:15:00': {'1. open': '247.2216', '2. high': '247.4000', '3. low': '247.1300', '4. close': '247.1600', '5. volume': '240081'}, '2025-02-21 12:10:00': {'1. open': '247.2400', '2. high': '247.4200', '3. low': '247.0200', '4. close': '247.2267', '5. volume': '263900'}, '2025-02-21 12:05:00': {'1. open': '247.5200', '2. high': '247.5299', '3. low': '247.1600', '4. close': '247.2200', '5. volume': '237717'}, '2025-02-21 12:00:00': {'1. open': '247.0200', '2. high': '247.6500', '3. low': '246.9801', '4. close': '247.5200', '5. volume': '328617'}, '2025-02-21 11:55:00': {'1. open': '246.7000', '2. high': '247.2199', '3. low': '246.6804', '4. close': '247.0150', '5. volume': '353628'}, '2025-02-21 11:50:00': {'1. open': '247.3650', '2. high': '247.4300', '3. low': '246.6500', '4. close': '246.6800', '5. volume': '1364459'}, '2025-02-21 11:45:00': {'1. open': '247.1250', '2. high': '247.5000', '3. low': '246.9610', '4. close': '247.3800', '5. volume': '358545'}, '2025-02-21 11:40:00': {'1. open': '247.3202', '2. high': '247.3600', '3. low': '246.9100', '4. close': '247.1200', '5. volume': '223451'}}}\n"
          ]
        }
      ]
    },
    {
      "cell_type": "code",
      "source": [
        "!pip uninstall -y tensorflow\n",
        "!pip install tensorflow==2.12.0\n"
      ],
      "metadata": {
        "id": "6OB0Lt8KgFGj"
      },
      "execution_count": null,
      "outputs": []
    },
    {
      "cell_type": "code",
      "source": [
        "import numpy as np\n",
        "import pandas as pd\n",
        "import matplotlib.pyplot as plt\n",
        "import yfinance as yf\n",
        "from sklearn.preprocessing import MinMaxScaler\n",
        "from tensorflow.keras.models import Sequential\n",
        "from tensorflow.keras.layers import LSTM, Dense, Dropout\n",
        "\n",
        "# Fetch stock data (e.g., Apple 'AAPL') from Yahoo Finance\n",
        "def get_stock_data(symbol, start=\"2020-01-01\", end=\"2024-01-01\"):\n",
        "    stock = yf.download(symbol, start=start, end=end)\n",
        "    return stock[\"Close\"]\n",
        "\n",
        "# Prepare data for LSTM model\n",
        "def prepare_data(data, time_step=50):\n",
        "    scaler = MinMaxScaler(feature_range=(0,1))\n",
        "    data_scaled = scaler.fit_transform(np.array(data).reshape(-1,1))\n",
        "\n",
        "    X, Y = [], []\n",
        "    for i in range(len(data_scaled)-time_step-1):\n",
        "        X.append(data_scaled[i:(i+time_step), 0])\n",
        "        Y.append(data_scaled[i + time_step, 0])\n",
        "\n",
        "    X, Y = np.array(X), np.array(Y)\n",
        "    X = X.reshape(X.shape[0], X.shape[1], 1)  # Reshape for LSTM\n",
        "    return X, Y, scaler\n",
        "\n",
        "from tensorflow.keras.layers import LSTM\n",
        "\n",
        "def build_lstm_model():\n",
        "    model = Sequential([\n",
        "        LSTM(50, return_sequences=True, input_shape=(50,1), activation='tanh', recurrent_activation='sigmoid', unroll=True),\n",
        "        Dropout(0.2),\n",
        "        LSTM(50, return_sequences=False, activation='tanh', recurrent_activation='sigmoid', unroll=True),\n",
        "        Dense(25),\n",
        "        Dense(1)\n",
        "    ])\n",
        "    model.compile(optimizer=\"adam\", loss=\"mean_squared_error\")\n",
        "    return model\n",
        "\n",
        "# Main Execution\n",
        "stock_symbol = \"AAPL\"\n",
        "print(f\"Fetching stock data for {stock_symbol}...\")\n",
        "stock_data = get_stock_data(stock_symbol)\n",
        "\n",
        "# Split data into training and testing\n",
        "train_size = int(len(stock_data) * 0.8)\n",
        "train_data, test_data = stock_data[:train_size], stock_data[train_size:]\n",
        "\n",
        "# Prepare datasets\n",
        "X_train, Y_train, scaler = prepare_data(train_data)\n",
        "X_test, Y_test, _ = prepare_data(test_data)\n",
        "\n",
        "# Train the model\n",
        "print(\"Training LSTM model...\")\n",
        "model = build_lstm_model()\n",
        "model.fit(X_train, Y_train, epochs=50, batch_size=16, verbose=1)\n",
        "\n"
      ],
      "metadata": {
        "colab": {
          "base_uri": "https://localhost:8080/"
        },
        "id": "hIqxolMEbYJV",
        "outputId": "ac7857f6-5532-47c4-c217-96405b31af99"
      },
      "execution_count": 3,
      "outputs": [
        {
          "output_type": "stream",
          "name": "stderr",
          "text": [
            "\r[*********************100%***********************]  1 of 1 completed"
          ]
        },
        {
          "output_type": "stream",
          "name": "stdout",
          "text": [
            "Fetching stock data for AAPL...\n",
            "Training LSTM model...\n"
          ]
        },
        {
          "output_type": "stream",
          "name": "stderr",
          "text": [
            "\n"
          ]
        },
        {
          "output_type": "stream",
          "name": "stdout",
          "text": [
            "Epoch 1/50\n",
            "48/48 [==============================] - 15s 17ms/step - loss: 0.0299\n",
            "Epoch 2/50\n",
            "48/48 [==============================] - 1s 17ms/step - loss: 0.0034\n",
            "Epoch 3/50\n",
            "48/48 [==============================] - 1s 18ms/step - loss: 0.0028\n",
            "Epoch 4/50\n",
            "48/48 [==============================] - 1s 19ms/step - loss: 0.0030\n",
            "Epoch 5/50\n",
            "48/48 [==============================] - 1s 18ms/step - loss: 0.0026\n",
            "Epoch 6/50\n",
            "48/48 [==============================] - 1s 18ms/step - loss: 0.0025\n",
            "Epoch 7/50\n",
            "48/48 [==============================] - 1s 19ms/step - loss: 0.0030\n",
            "Epoch 8/50\n",
            "48/48 [==============================] - 1s 18ms/step - loss: 0.0025\n",
            "Epoch 9/50\n",
            "48/48 [==============================] - 1s 19ms/step - loss: 0.0029\n",
            "Epoch 10/50\n",
            "48/48 [==============================] - 1s 23ms/step - loss: 0.0021\n",
            "Epoch 11/50\n",
            "48/48 [==============================] - 1s 26ms/step - loss: 0.0024\n",
            "Epoch 12/50\n",
            "48/48 [==============================] - 1s 28ms/step - loss: 0.0024\n",
            "Epoch 13/50\n",
            "48/48 [==============================] - 1s 20ms/step - loss: 0.0020\n",
            "Epoch 14/50\n",
            "48/48 [==============================] - 1s 19ms/step - loss: 0.0022\n",
            "Epoch 15/50\n",
            "48/48 [==============================] - 1s 20ms/step - loss: 0.0021\n",
            "Epoch 16/50\n",
            "48/48 [==============================] - 1s 19ms/step - loss: 0.0018\n",
            "Epoch 17/50\n",
            "48/48 [==============================] - 1s 19ms/step - loss: 0.0018\n",
            "Epoch 18/50\n",
            "48/48 [==============================] - 1s 19ms/step - loss: 0.0018\n",
            "Epoch 19/50\n",
            "48/48 [==============================] - 1s 18ms/step - loss: 0.0025\n",
            "Epoch 20/50\n",
            "48/48 [==============================] - 1s 19ms/step - loss: 0.0019\n",
            "Epoch 21/50\n",
            "48/48 [==============================] - 1s 19ms/step - loss: 0.0016\n",
            "Epoch 22/50\n",
            "48/48 [==============================] - 1s 19ms/step - loss: 0.0017\n",
            "Epoch 23/50\n",
            "48/48 [==============================] - 1s 20ms/step - loss: 0.0016\n",
            "Epoch 24/50\n",
            "48/48 [==============================] - 1s 27ms/step - loss: 0.0016\n",
            "Epoch 25/50\n",
            "48/48 [==============================] - 1s 26ms/step - loss: 0.0015\n",
            "Epoch 26/50\n",
            "48/48 [==============================] - 1s 24ms/step - loss: 0.0018\n",
            "Epoch 27/50\n",
            "48/48 [==============================] - 1s 19ms/step - loss: 0.0016\n",
            "Epoch 28/50\n",
            "48/48 [==============================] - 1s 20ms/step - loss: 0.0017\n",
            "Epoch 29/50\n",
            "48/48 [==============================] - 1s 18ms/step - loss: 0.0015\n",
            "Epoch 30/50\n",
            "48/48 [==============================] - 1s 19ms/step - loss: 0.0016\n",
            "Epoch 31/50\n",
            "48/48 [==============================] - 1s 19ms/step - loss: 0.0013\n",
            "Epoch 32/50\n",
            "48/48 [==============================] - 1s 18ms/step - loss: 0.0014\n",
            "Epoch 33/50\n",
            "48/48 [==============================] - 1s 19ms/step - loss: 0.0013\n",
            "Epoch 34/50\n",
            "48/48 [==============================] - 1s 19ms/step - loss: 0.0013\n",
            "Epoch 35/50\n",
            "48/48 [==============================] - 1s 19ms/step - loss: 0.0013\n",
            "Epoch 36/50\n",
            "48/48 [==============================] - 1s 19ms/step - loss: 0.0014\n",
            "Epoch 37/50\n",
            "48/48 [==============================] - 1s 22ms/step - loss: 0.0014\n",
            "Epoch 38/50\n",
            "48/48 [==============================] - 1s 27ms/step - loss: 0.0014\n",
            "Epoch 39/50\n",
            "48/48 [==============================] - 1s 26ms/step - loss: 0.0014\n",
            "Epoch 40/50\n",
            "48/48 [==============================] - 1s 20ms/step - loss: 0.0015\n",
            "Epoch 41/50\n",
            "48/48 [==============================] - 1s 19ms/step - loss: 0.0011\n",
            "Epoch 42/50\n",
            "48/48 [==============================] - 1s 19ms/step - loss: 0.0011\n",
            "Epoch 43/50\n",
            "48/48 [==============================] - 1s 19ms/step - loss: 0.0012\n",
            "Epoch 44/50\n",
            "48/48 [==============================] - 1s 19ms/step - loss: 0.0013\n",
            "Epoch 45/50\n",
            "48/48 [==============================] - 1s 19ms/step - loss: 0.0011\n",
            "Epoch 46/50\n",
            "48/48 [==============================] - 1s 20ms/step - loss: 0.0010\n",
            "Epoch 47/50\n",
            "48/48 [==============================] - 1s 20ms/step - loss: 0.0012\n",
            "Epoch 48/50\n",
            "48/48 [==============================] - 1s 19ms/step - loss: 0.0010\n",
            "Epoch 49/50\n",
            "48/48 [==============================] - 1s 19ms/step - loss: 0.0012\n",
            "Epoch 50/50\n",
            "48/48 [==============================] - 1s 19ms/step - loss: 0.0011\n"
          ]
        },
        {
          "output_type": "execute_result",
          "data": {
            "text/plain": [
              "<keras.callbacks.History at 0x79e9b9f14610>"
            ]
          },
          "metadata": {},
          "execution_count": 3
        }
      ]
    },
    {
      "cell_type": "code",
      "source": [
        "# Evaluate the model\n",
        "train_predict = model.predict(X_train)\n",
        "test_predict = model.predict(X_test)\n",
        "\n",
        "# Invert scaling for predicted values\n",
        "train_predict = scaler.inverse_transform(train_predict)\n",
        "Y_train = scaler.inverse_transform([Y_train])\n",
        "test_predict = scaler.inverse_transform(test_predict)\n",
        "Y_test = scaler.inverse_transform([Y_test])\n",
        "\n",
        "# Calculate RMSE\n",
        "from sklearn.metrics import mean_squared_error\n",
        "train_rmse = np.sqrt(mean_squared_error(Y_train[0], train_predict[:,0]))\n",
        "test_rmse = np.sqrt(mean_squared_error(Y_test[0], test_predict[:,0]))\n",
        "\n",
        "print(f\"Train RMSE: {train_rmse}\")\n",
        "print(f\"Test RMSE: {test_rmse}\")"
      ],
      "metadata": {
        "colab": {
          "base_uri": "https://localhost:8080/"
        },
        "id": "aLpK61Rxh9jY",
        "outputId": "11780f03-f7a5-42dc-a035-d1269a67fbae"
      },
      "execution_count": 4,
      "outputs": [
        {
          "output_type": "stream",
          "name": "stdout",
          "text": [
            "24/24 [==============================] - 3s 12ms/step\n",
            "5/5 [==============================] - 0s 12ms/step\n",
            "Train RMSE: 3.3740125551867313\n",
            "Test RMSE: 7.945025190681011\n"
          ]
        }
      ]
    },
    {
      "cell_type": "code",
      "source": [
        "# Make predictions\n",
        "predictions = model.predict(X_test)\n",
        "predictions = scaler.inverse_transform(predictions)  # Convert back to original scale\n",
        "\n",
        "# Plot results\n",
        "plt.figure(figsize=(12,6))\n",
        "plt.plot(stock_data.index[train_size+50:train_size+50+len(predictions)], test_data[50:50+len(predictions)], label=\"Actual Price\", color=\"blue\") # Adjust the x-axis range\n",
        "plt.plot(stock_data.index[train_size+50:train_size+50+len(predictions)], predictions, label=\"Predicted Price\", color=\"red\") # Adjust the x-axis range\n",
        "plt.legend()\n",
        "plt.xlabel(\"Date\")\n",
        "plt.ylabel(\"Stock Price\")\n",
        "plt.title(f\"{stock_symbol} Stock Price Prediction\")\n",
        "plt.show()"
      ],
      "metadata": {
        "colab": {
          "base_uri": "https://localhost:8080/",
          "height": 580
        },
        "id": "LY_93Ki6bYC4",
        "outputId": "4829a58d-40ca-4213-bfc3-b646f48a0074"
      },
      "execution_count": 6,
      "outputs": [
        {
          "output_type": "stream",
          "name": "stdout",
          "text": [
            "5/5 [==============================] - 0s 9ms/step\n"
          ]
        },
        {
          "output_type": "display_data",
          "data": {
            "text/plain": [
              "<Figure size 1200x600 with 1 Axes>"
            ],
            "image/png": "[encoded data removed]"
          },
          "metadata": {}
        }
      ]
    },
    {
      "cell_type": "code",
      "source": [
        "\n",
        "model.save('/content/drive/MyDrive/APPLICATION/Stock_Prediction_Model.h5')\n"
      ],
      "metadata": {
        "id": "32D7dsrabX9w"
      },
      "execution_count": 7,
      "outputs": []
    },
    {
      "cell_type": "code",
      "source": [],
      "metadata": {
        "id": "rCwvaHxBj0L0"
      },
      "execution_count": null,
      "outputs": []
    }
  ],
  "metadata": {
    "colab": {
      "provenance": []
    },
    "kernelspec": {
      "display_name": "Python 3",
      "name": "python3"
    },
    "language_info": {
      "name": "python"
    }
  },
  "nbformat": 4,
  "nbformat_minor": 0
}